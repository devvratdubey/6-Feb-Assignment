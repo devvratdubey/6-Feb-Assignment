{
 "cells": [
  {
   "cell_type": "code",
   "execution_count": 11,
   "id": "31f83553-07a6-43c4-8a1e-6923d2021015",
   "metadata": {},
   "outputs": [],
   "source": [
    "#q1 answer\n",
    "list1 = [1,2,3,4, [44,55,66, True], False, (34,56,78,89,34), {1,2,3,3,2,1}, {1:34, \"key2\": [55, 67, 78, 89], 4: (45,\n",
    "22, 61, 34)}, [56, 'data science'], 'Machine Learning']\n",
    "def function1(list1):\n",
    "    from functools import reduce\n",
    "    a=[]\n",
    "    for i in list1:\n",
    "        if type(i)==int:\n",
    "            a.append(i)\n",
    "        if type(i)==list or type(i)==tuple or type(i)==set:\n",
    "            for j in i:\n",
    "                if type(j)==int:\n",
    "                    a.append(j)\n",
    "        if type(i)==dict:\n",
    "            for k in i.keys():\n",
    "                if type(k)==int:\n",
    "                    a.append(k)\n",
    "                if type(k)==list or type(k)==tuple or type(k)==set:\n",
    "                    for r in k:\n",
    "                        if type(r)==int:\n",
    "                            a.append(r)\n",
    "            for s in i.values():\n",
    "                if type(s)==int:\n",
    "                    a.append(s)\n",
    "                if type(s)==list or type(s)==tuple or type(s)==set:\n",
    "                    for t in s:\n",
    "                        if type(t)==int:\n",
    "                            a.append(t)\n",
    "    return reduce(lambda x,y:x*y,a)"
   ]
  },
  {
   "cell_type": "code",
   "execution_count": 12,
   "id": "55cb259b-7aed-4e77-ba80-6e46d0a8e488",
   "metadata": {},
   "outputs": [
    {
     "data": {
      "text/plain": [
       "4134711838987085478833841242112000"
      ]
     },
     "execution_count": 12,
     "metadata": {},
     "output_type": "execute_result"
    }
   ],
   "source": [
    "function1(list1)"
   ]
  },
  {
   "cell_type": "code",
   "execution_count": 13,
   "id": "a7e9ee16-ddd3-4d67-8799-a1125b147e00",
   "metadata": {},
   "outputs": [
    {
     "name": "stdout",
     "output_type": "stream",
     "text": [
      "r$dzmg$gl$yvxlnv$z$wzgz$hxrvmgrhg.\n"
     ]
    }
   ],
   "source": [
    "#q2 answer\n",
    "l1=\"abcdefghijklmnopqrstuvwxyz\"\n",
    "l1=list(l1)\n",
    "l2=l1[::-1]\n",
    "x=zip(l1,l2)\n",
    "x=dict(x)\n",
    "s=\"I want to become a Data Scientist.\"\n",
    "a=[]\n",
    "for i in s:\n",
    "    if i.lower() in x:\n",
    "        a.append(x[i.lower()])\n",
    "    elif i==\" \":\n",
    "        a.append(\"$\")\n",
    "    else:\n",
    "        a.append(i)\n",
    "print(\"\".join(a))"
   ]
  },
  {
   "cell_type": "code",
   "execution_count": null,
   "id": "a9033db3-9ab2-4635-8e1f-98f91adccae9",
   "metadata": {},
   "outputs": [],
   "source": []
  }
 ],
 "metadata": {
  "kernelspec": {
   "display_name": "Python 3 (ipykernel)",
   "language": "python",
   "name": "python3"
  },
  "language_info": {
   "codemirror_mode": {
    "name": "ipython",
    "version": 3
   },
   "file_extension": ".py",
   "mimetype": "text/x-python",
   "name": "python",
   "nbconvert_exporter": "python",
   "pygments_lexer": "ipython3",
   "version": "3.10.8"
  }
 },
 "nbformat": 4,
 "nbformat_minor": 5
}
